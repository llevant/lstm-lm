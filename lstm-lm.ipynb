{
 "cells": [
  {
   "cell_type": "code",
   "execution_count": 1,
   "id": "e6c96798",
   "metadata": {},
   "outputs": [],
   "source": [
    "import re\n",
    "from typing import List\n",
    "\n",
    "import numpy\n",
    "\n",
    "import torch\n",
    "import torch.nn as nn\n",
    "import torch.nn.functional as F\n",
    "import torch.optim as optim\n",
    "from torch.utils.data import DataLoader\n",
    "import torchdata\n",
    "import torchtext\n",
    "import spacy\n",
    "from torchtext import data\n",
    "from torchtext.datasets import PennTreebank\n",
    "\n",
    "from matplotlib import pyplot as plt\n",
    "from collections import defaultdict\n",
    "\n",
    "from torch.optim.swa_utils import AveragedModel, SWALR\n",
    "from torch.optim.lr_scheduler import CosineAnnealingLR"
   ]
  },
  {
   "cell_type": "code",
   "execution_count": 2,
   "id": "ae03f61d",
   "metadata": {},
   "outputs": [],
   "source": [
    "train_data, valid_data, test_data = PennTreebank()"
   ]
  },
  {
   "cell_type": "code",
   "execution_count": 3,
   "id": "3cfa110a",
   "metadata": {},
   "outputs": [],
   "source": [
    "train_data = [data for data in train_data]\n",
    "valid_data = [data for data in valid_data]\n",
    "test_data = [data for data in test_data]"
   ]
  },
  {
   "cell_type": "code",
   "execution_count": 4,
   "id": "47d34e88",
   "metadata": {},
   "outputs": [
    {
     "name": "stdout",
     "output_type": "stream",
     "text": [
      "['aer banknote berlitz calloway centrust cluett fromstein gitano guterman hydro-quebec ipo kia memotec mlx nahb punts rake regatta rubens sim snack-food ssangyong swapo wachter', 'pierre <unk> N years old will join the board as a nonexecutive director nov. N', 'mr. <unk> is chairman of <unk> n.v. the dutch publishing group']\n"
     ]
    }
   ],
   "source": [
    "print(train_data[:3])"
   ]
  },
  {
   "cell_type": "code",
   "execution_count": 5,
   "id": "e966737a",
   "metadata": {},
   "outputs": [
    {
     "data": {
      "text/plain": [
       "42068"
      ]
     },
     "execution_count": 5,
     "metadata": {},
     "output_type": "execute_result"
    }
   ],
   "source": [
    "len(train_data)"
   ]
  },
  {
   "cell_type": "code",
   "execution_count": 6,
   "id": "8b381b97",
   "metadata": {},
   "outputs": [],
   "source": [
    "def sen_to_word(sen_list):\n",
    "    line = []\n",
    "    for sen in sen_list:\n",
    "        for item in sen.split():\n",
    "            line.append(item)\n",
    "        line.append('<eos>')\n",
    "    return line     "
   ]
  },
  {
   "cell_type": "code",
   "execution_count": 7,
   "id": "412ac718",
   "metadata": {},
   "outputs": [
    {
     "name": "stdout",
     "output_type": "stream",
     "text": [
      "['aer', 'banknote', 'berlitz', 'calloway', 'centrust', 'cluett', 'fromstein', 'gitano', 'guterman', 'hydro-quebec', 'ipo', 'kia', 'memotec', 'mlx', 'nahb', 'punts', 'rake', 'regatta', 'rubens', 'sim', 'snack-food', 'ssangyong', 'swapo', 'wachter', '<eos>', 'pierre', '<unk>', 'N', 'years', 'old', 'will', 'join', 'the', 'board', 'as', 'a', 'nonexecutive', 'director', 'nov.', 'N', '<eos>', 'mr.', '<unk>', 'is', 'chairman', 'of', '<unk>', 'n.v.', 'the', 'dutch', 'publishing', 'group', '<eos>', 'rudolph', '<unk>', 'N', 'years', 'old', 'and', 'former', 'chairman', 'of', 'consolidated', 'gold', 'fields', 'plc', 'was', 'named', 'a', 'nonexecutive', 'director', 'of', 'this', 'british', 'industrial', 'conglomerate', '<eos>', 'a', 'form', 'of', 'asbestos', 'once', 'used', 'to', 'make', 'kent', 'cigarette', 'filters', 'has', 'caused', 'a', 'high', 'percentage', 'of', 'cancer', 'deaths', 'among', 'a', 'group', 'of']\n"
     ]
    }
   ],
   "source": [
    "all_words = sen_to_word(train_data)\n",
    "print(all_words[:100])"
   ]
  },
  {
   "cell_type": "code",
   "execution_count": 8,
   "id": "0047a38b",
   "metadata": {},
   "outputs": [],
   "source": [
    "#The number of processing units (neurons) in the hidden layers\n",
    "hidden_size_l1 = 512\n",
    "hidden_size_l2 = 512\n",
    "hidden_size_l3 = 512\n",
    "#The size for each batch of data\n",
    "batch_size = 30\n",
    "#The size of our vocabulary\n",
    "vocab_size = 10000\n",
    "embeding_vector_size = 150\n",
    "#Sequence length\n",
    "seq_len = 20"
   ]
  },
  {
   "cell_type": "code",
   "execution_count": 9,
   "id": "71dfdc23",
   "metadata": {},
   "outputs": [],
   "source": [
    "word_to_ix = {}\n",
    "for word in all_words:\n",
    "    if word not in word_to_ix:  # word has not been assigned an index yet\n",
    "        word_to_ix[word] = len(word_to_ix)"
   ]
  },
  {
   "cell_type": "code",
   "execution_count": 10,
   "id": "56b9ec91",
   "metadata": {},
   "outputs": [],
   "source": [
    "def prepare_sequence(seq, to_ix):\n",
    "    idxs = [to_ix[w] for w in seq]\n",
    "    return torch.tensor(idxs, dtype=torch.long)"
   ]
  },
  {
   "cell_type": "code",
   "execution_count": 11,
   "id": "cf690e6d",
   "metadata": {},
   "outputs": [],
   "source": [
    "class MyModel(nn.Module):\n",
    "    def __init__(self):\n",
    "        super(MyModel, self).__init__()\n",
    "        #self.batch_size = batch_size\n",
    "        self.hidden_size_l1 = hidden_size_l1\n",
    "        self.hidden_size_l2 = hidden_size_l2\n",
    "        self.vocab_size = vocab_size\n",
    "        self.embeding_vector_size = embeding_vector_size\n",
    "        \n",
    "        self.word_embeddings = nn.Embedding(vocab_size, embeding_vector_size)\n",
    "        \n",
    "        self.lstm1 = nn.LSTM(embeding_vector_size, hidden_size_l1, dropout=0.5)\n",
    "        self.lstm2 = nn.LSTM(hidden_size_l1, hidden_size_l2, dropout=0.5) \n",
    "        self.lstm3 = nn.LSTM(hidden_size_l2, hidden_size_l3, dropout=0.5)\n",
    "        \n",
    "        self.lin = nn.Linear(hidden_size_l3, vocab_size)\n",
    "        \n",
    "    def forward(self, sentence):\n",
    "        embeds = self.word_embeddings(sentence)\n",
    "        lstm1_out, _ = self.lstm1(embeds) #увеличить модель (три слоя) + dropout-ы (до 0.5) включить стандартные + L2-рег weight decay 1e-6\n",
    "        lstm2_out, _ = self.lstm2(lstm1_out) #512 юнитов использовать; gradient clipping\n",
    "        lstm3_out, _ = self.lstm3(lstm2_out)\n",
    "        output = self.lin(lstm3_out) #бонус усреднение model avg\n",
    "        return output"
   ]
  },
  {
   "cell_type": "code",
   "execution_count": 12,
   "id": "ae5c1d1f",
   "metadata": {},
   "outputs": [
    {
     "name": "stderr",
     "output_type": "stream",
     "text": [
      "/mnt/hdd/student/anaconda/lib/python3.8/site-packages/torch/nn/modules/rnn.py:62: UserWarning: dropout option adds dropout after all but last recurrent layer, so non-zero dropout expects num_layers greater than 1, but got dropout=0.5 and num_layers=1\n",
      "  warnings.warn(\"dropout option adds dropout after all but last \"\n"
     ]
    }
   ],
   "source": [
    "model = MyModel().cuda()"
   ]
  },
  {
   "cell_type": "code",
   "execution_count": 13,
   "id": "b9ac1955",
   "metadata": {},
   "outputs": [],
   "source": [
    "loss_function = nn.CrossEntropyLoss()"
   ]
  },
  {
   "cell_type": "code",
   "execution_count": 14,
   "id": "8af107d8",
   "metadata": {},
   "outputs": [],
   "source": [
    "prep_inputs = prepare_sequence(all_words, word_to_ix)\n",
    "prep_inputs = prep_inputs.tolist()"
   ]
  },
  {
   "cell_type": "code",
   "execution_count": 15,
   "id": "39badf95",
   "metadata": {},
   "outputs": [],
   "source": [
    "def preprocessing_data(batch_start):\n",
    "\n",
    "    x = torch.tensor([prep_inputs[batch_start:batch_start+batch_size*seq_len]])\n",
    "    \n",
    "    return x.reshape(batch_size, seq_len).T"
   ]
  },
  {
   "cell_type": "code",
   "execution_count": 16,
   "id": "1770635a",
   "metadata": {},
   "outputs": [],
   "source": [
    "batch_num = (len(all_words) // (batch_size * seq_len))"
   ]
  },
  {
   "cell_type": "code",
   "execution_count": 17,
   "id": "3d3fe138",
   "metadata": {},
   "outputs": [],
   "source": [
    "optimizer = optim.Adam(model.parameters(), lr=0.001, weight_decay=1e-6)\n",
    "#optimizer = optim.SGD(model.parameters(), lr=1, weight_decay=1e-6)"
   ]
  },
  {
   "cell_type": "code",
   "execution_count": 18,
   "id": "07889c7c",
   "metadata": {},
   "outputs": [],
   "source": [
    "history = defaultdict(list)"
   ]
  },
  {
   "cell_type": "code",
   "execution_count": 19,
   "id": "b838216e",
   "metadata": {},
   "outputs": [],
   "source": [
    "all_words_valid = sen_to_word(valid_data)\n",
    "\n",
    "valid_inputs0 = prepare_sequence(all_words_valid, word_to_ix)\n",
    "\n",
    "valid_inputs0 = valid_inputs0.tolist()\n",
    "\n",
    "valid_inputs = torch.tensor(valid_inputs0[:-1]).cuda()\n",
    "\n",
    "valid_targets = torch.tensor(valid_inputs0[1:]).cuda()"
   ]
  },
  {
   "cell_type": "code",
   "execution_count": 20,
   "id": "bb17e769",
   "metadata": {},
   "outputs": [],
   "source": [
    "t = 0\n",
    "t1 = 0\n",
    "logs = []\n",
    "n = 5\n",
    "L = batch_num\n",
    "counter = 0"
   ]
  },
  {
   "cell_type": "code",
   "execution_count": 21,
   "id": "ec5dd3c8",
   "metadata": {},
   "outputs": [
    {
     "name": "stdout",
     "output_type": "stream",
     "text": [
      "0\n",
      "Loss: 6.321605800581871 PP: 651.3832311365511\n",
      "1\n",
      "Loss: 5.441333086279764 PP: 248.98420976499654\n",
      "2\n",
      "Loss: 5.062573664106808 PP: 171.94600482568808\n",
      "3\n",
      "Loss: 4.796964906738064 PP: 132.9695154658589\n",
      "4\n",
      "Loss: 4.569598662845545 PP: 106.53530949819773\n",
      "5\n",
      "Loss: 4.3597748587407015 PP: 86.64494335397434\n",
      "6\n",
      "----- new optimizer -----\n",
      "Loss: 4.163339901232119 PP: 71.21229475463414\n",
      "7\n",
      "Loss: 4.20794603976994 PP: 76.6384364314969\n",
      "8\n",
      "Loss: 4.196078950085895 PP: 75.68197621985202\n",
      "9\n",
      "Loss: 4.188317770800951 PP: 75.07114796364515\n",
      "10\n",
      "Loss: 4.182165904611522 PP: 74.5941407146417\n",
      "11\n",
      "Loss: 4.176881047431079 PP: 74.18861171228028\n",
      "12\n",
      "Loss: 4.1721669278505 PP: 73.82975347539238\n",
      "13\n",
      "Loss: 4.167873984155846 PP: 73.50506202739004\n",
      "14\n",
      "Loss: 4.16391107699731 PP: 73.20694840931753\n",
      "15\n",
      "Loss: 4.1602174261833795 PP: 72.93036477730458\n",
      "16\n",
      "Loss: 4.156749463296845 PP: 72.67173174229494\n",
      "17\n",
      "Loss: 4.153475474626346 PP: 72.42844365195661\n",
      "18\n",
      "Loss: 4.1503715376610755 PP: 72.19853162272966\n",
      "19\n",
      "Loss: 4.147418902950029 PP: 71.98045119275733\n",
      "20\n",
      "Loss: 4.14460213208214 PP: 71.77293816468575\n",
      "21\n",
      "Loss: 4.141908423295708 PP: 71.5749510919917\n",
      "22\n",
      "Loss: 4.1393268937984535 PP: 71.38561001433489\n",
      "23\n",
      "Loss: 4.136848125132997 PP: 71.20416110019056\n",
      "24\n",
      "Loss: 4.13446406070612 PP: 71.02996286921073\n",
      "25\n",
      "Loss: 4.132167610643447 PP: 70.86245123519676\n",
      "26\n",
      "Loss: 4.129952368927125 PP: 70.70112253497538\n",
      "27\n",
      "Loss: 4.1278124023745955 PP: 70.54551399962374\n",
      "28\n",
      "Loss: 4.125742547199602 PP: 70.39522587475737\n",
      "29\n",
      "Loss: 4.123738356987994 PP: 70.24990897150944\n"
     ]
    }
   ],
   "source": [
    "for epoch in range(30):\n",
    "    \n",
    "    loss_sum = 0\n",
    "    pp_sum = 0\n",
    "    k = 0\n",
    "    \n",
    "    print(epoch)\n",
    "    \n",
    "    for batch in range(batch_num):\n",
    "\n",
    "        model.zero_grad()\n",
    "        \n",
    "        batch_start = batch * batch_size * seq_len\n",
    "        \n",
    "        \n",
    "        inputs = preprocessing_data(batch_start).cuda()\n",
    "        #print(inputs)\n",
    "        targets = preprocessing_data(batch_start+1).cuda()\n",
    "        #print(targets)\n",
    "        targets = targets.reshape(batch_size*seq_len)\n",
    "        #print(targets.size())\n",
    "        \n",
    "        outputs = model(inputs)\n",
    "        outputs = outputs.reshape(batch_size*seq_len, vocab_size)\n",
    "        #print(outputs.size()) \n",
    "        \n",
    "        loss = loss_function(outputs, targets)\n",
    "        \n",
    "        \n",
    "        loss.backward()\n",
    "        \n",
    "        nn.utils.clip_grad_value_(model.parameters(), clip_value=3.5) #gradient clipping\n",
    "        \n",
    "        optimizer.step()\n",
    "        \n",
    "        perplexity  = torch.exp(loss)\n",
    "        \n",
    "        loss_sum += loss.item() \n",
    "        pp_sum += perplexity.item()\n",
    "        k += 1\n",
    "        counter += 1\n",
    "    \n",
    "    \n",
    "    if k % L == 0 and t1 == 0:\n",
    "        with torch.no_grad():\n",
    "            valid_outputs = model(valid_inputs)\n",
    "        loss_valid = loss_function(valid_outputs, valid_targets)\n",
    "        perplexity_val  = torch.exp(loss_valid)\n",
    "        v = perplexity_val.item()\n",
    "        if t > n and v > min(logs):\n",
    "            print(\"----- new optimizer -----\")\n",
    "            #optimizer = optim.Adam(model.parameters(), lr=0.0001, weight_decay=1e-6)\n",
    "            optimizer = optim.ASGD(model.parameters(), lr=0.001, t0=0, lambd=0., weight_decay=1e-6)\n",
    "            t1 = k\n",
    "        logs.append(v)\n",
    "        t = t + 1\n",
    "     \n",
    "        \n",
    "    loss_mean = loss_sum / k\n",
    "    pp_mean = pp_sum / k\n",
    "    \n",
    "    history['loss'].append(loss_mean)\n",
    "    history['perplexity'].append(pp_mean)\n",
    "    print('Loss:', loss_mean, 'PP:', pp_mean)"
   ]
  },
  {
   "cell_type": "code",
   "execution_count": 22,
   "id": "89c61c37",
   "metadata": {
    "scrolled": false
   },
   "outputs": [
    {
     "data": {
      "image/png": "[encoded data removed]",
      "text/plain": [
       "<Figure size 1600x800 with 2 Axes>"
      ]
     },
     "metadata": {},
     "output_type": "display_data"
    }
   ],
   "source": [
    "fig, axes = plt.subplots(1, 2, figsize=(16, 8))\n",
    "axes[0].plot(history['loss'], label='Loss')\n",
    "axes[1].plot(history['perplexity'], label='PP')\n",
    "axes[0].legend()\n",
    "axes[0].grid()\n",
    "axes[1].legend()\n",
    "axes[1].grid()\n",
    "plt.show()"
   ]
  },
  {
   "cell_type": "code",
   "execution_count": 23,
   "id": "a64c084d",
   "metadata": {},
   "outputs": [
    {
     "data": {
      "text/plain": [
       "[290.629150390625,\n",
       " 192.93170166015625,\n",
       " 163.31475830078125,\n",
       " 152.92196655273438,\n",
       " 149.53268432617188,\n",
       " 151.53973388671875,\n",
       " 160.47373962402344]"
      ]
     },
     "execution_count": 23,
     "metadata": {},
     "output_type": "execute_result"
    }
   ],
   "source": [
    "logs"
   ]
  },
  {
   "cell_type": "code",
   "execution_count": 24,
   "id": "09bd67dc",
   "metadata": {},
   "outputs": [
    {
     "data": {
      "text/plain": [
       "MyModel(\n",
       "  (word_embeddings): Embedding(10000, 150)\n",
       "  (lstm1): LSTM(150, 512, dropout=0.5)\n",
       "  (lstm2): LSTM(512, 512, dropout=0.5)\n",
       "  (lstm3): LSTM(512, 512, dropout=0.5)\n",
       "  (lin): Linear(in_features=512, out_features=10000, bias=True)\n",
       ")"
      ]
     },
     "execution_count": 24,
     "metadata": {},
     "output_type": "execute_result"
    }
   ],
   "source": [
    "model.eval()"
   ]
  },
  {
   "cell_type": "code",
   "execution_count": 25,
   "id": "8465c356",
   "metadata": {},
   "outputs": [],
   "source": [
    "with torch.no_grad():\n",
    "    valid_outputs = model(valid_inputs)\n",
    "    \n",
    "loss_valid = loss_function(valid_outputs, valid_targets)\n",
    "perplexity_val  = torch.exp(loss_valid)\n",
    "v = perplexity_val.item()"
   ]
  },
  {
   "cell_type": "code",
   "execution_count": 26,
   "id": "c21c5b96",
   "metadata": {},
   "outputs": [
    {
     "data": {
      "text/plain": [
       "151.65017700195312"
      ]
     },
     "execution_count": 26,
     "metadata": {},
     "output_type": "execute_result"
    }
   ],
   "source": [
    "v"
   ]
  },
  {
   "cell_type": "code",
   "execution_count": 27,
   "id": "d3ea5920",
   "metadata": {},
   "outputs": [],
   "source": [
    "all_words_test = sen_to_word(test_data)\n",
    "\n",
    "test_inputs0 = prepare_sequence(all_words_test, word_to_ix)\n",
    "\n",
    "test_inputs0 = test_inputs0.tolist()\n",
    "\n",
    "test_inputs = torch.tensor(test_inputs0[:-1]).cuda()\n",
    "\n",
    "test_targets = torch.tensor(test_inputs0[1:]).cuda()"
   ]
  },
  {
   "cell_type": "code",
   "execution_count": 28,
   "id": "361ef7a0",
   "metadata": {},
   "outputs": [],
   "source": [
    "with torch.no_grad():\n",
    "    test_outputs = model(test_inputs) #eval проверить\n",
    "\n",
    "loss_test = loss_function(test_outputs, test_targets)\n",
    "perplexity_test  = torch.exp(loss_test)"
   ]
  },
  {
   "cell_type": "code",
   "execution_count": 29,
   "id": "ad825453",
   "metadata": {},
   "outputs": [
    {
     "data": {
      "text/plain": [
       "146.6077423095703"
      ]
     },
     "execution_count": 29,
     "metadata": {},
     "output_type": "execute_result"
    }
   ],
   "source": [
    "perplexity_test.item()"
   ]
  }
 ],
 "metadata": {
  "kernelspec": {
   "display_name": "Python 3 (ipykernel)",
   "language": "python",
   "name": "python3"
  },
  "language_info": {
   "codemirror_mode": {
    "name": "ipython",
    "version": 3
   },
   "file_extension": ".py",
   "mimetype": "text/x-python",
   "name": "python",
   "nbconvert_exporter": "python",
   "pygments_lexer": "ipython3",
   "version": "3.8.3"
  }
 },
 "nbformat": 4,
 "nbformat_minor": 5
}
